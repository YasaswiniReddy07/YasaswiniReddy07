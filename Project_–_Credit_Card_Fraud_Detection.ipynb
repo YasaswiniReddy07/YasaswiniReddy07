{
  "nbformat": 4,
  "nbformat_minor": 0,
  "metadata": {
    "colab": {
      "provenance": [],
      "authorship_tag": "ABX9TyPmg82LSfBRxvkVdCozMy8W",
      "include_colab_link": true
    },
    "kernelspec": {
      "name": "python3",
      "display_name": "Python 3"
    },
    "language_info": {
      "name": "python"
    }
  },
  "cells": [
    {
      "cell_type": "markdown",
      "metadata": {
        "id": "view-in-github",
        "colab_type": "text"
      },
      "source": [
        "<a href=\"https://colab.research.google.com/github/YasaswiniReddy07/YasaswiniReddy07/blob/main/Project_%E2%80%93_Credit_Card_Fraud_Detection.ipynb\" target=\"_parent\"><img src=\"https://colab.research.google.com/assets/colab-badge.svg\" alt=\"Open In Colab\"/></a>"
      ]
    },
    {
      "cell_type": "markdown",
      "source": [
        "# **Project – Credit Card Fraud Detection**"
      ],
      "metadata": {
        "id": "FjGNyMGJXKcb"
      }
    },
    {
      "cell_type": "code",
      "execution_count": 47,
      "metadata": {
        "id": "uADvR08RLDWZ"
      },
      "outputs": [],
      "source": [
        "import pandas as pd\n",
        "import matplotlib.pyplot as plt"
      ]
    },
    {
      "cell_type": "code",
      "source": [
        "data = pd.read_csv('/content/creditcard.csv')\n",
        "print(data.head())"
      ],
      "metadata": {
        "colab": {
          "base_uri": "https://localhost:8080/",
          "height": 0
        },
        "id": "WUhFon0aPBox",
        "outputId": "5ef06fd9-215a-4996-c690-3e3ebc1cf769"
      },
      "execution_count": 48,
      "outputs": [
        {
          "output_type": "stream",
          "name": "stdout",
          "text": [
            "   Time        V1        V2        V3        V4        V5        V6        V7  \\\n",
            "0   0.0 -1.359807 -0.072781  2.536347  1.378155 -0.338321  0.462388  0.239599   \n",
            "1   0.0  1.191857  0.266151  0.166480  0.448154  0.060018 -0.082361 -0.078803   \n",
            "2   1.0 -1.358354 -1.340163  1.773209  0.379780 -0.503198  1.800499  0.791461   \n",
            "3   1.0 -0.966272 -0.185226  1.792993 -0.863291 -0.010309  1.247203  0.237609   \n",
            "4   2.0 -1.158233  0.877737  1.548718  0.403034 -0.407193  0.095921  0.592941   \n",
            "\n",
            "         V8        V9  ...       V21       V22       V23       V24       V25  \\\n",
            "0  0.098698  0.363787  ... -0.018307  0.277838 -0.110474  0.066928  0.128539   \n",
            "1  0.085102 -0.255425  ... -0.225775 -0.638672  0.101288 -0.339846  0.167170   \n",
            "2  0.247676 -1.514654  ...  0.247998  0.771679  0.909412 -0.689281 -0.327642   \n",
            "3  0.377436 -1.387024  ... -0.108300  0.005274 -0.190321 -1.175575  0.647376   \n",
            "4 -0.270533  0.817739  ... -0.009431  0.798278 -0.137458  0.141267 -0.206010   \n",
            "\n",
            "        V26       V27       V28  Amount  Class  \n",
            "0 -0.189115  0.133558 -0.021053  149.62    0.0  \n",
            "1  0.125895 -0.008983  0.014724    2.69    0.0  \n",
            "2 -0.139097 -0.055353 -0.059752  378.66    0.0  \n",
            "3 -0.221929  0.062723  0.061458  123.50    0.0  \n",
            "4  0.502292  0.219422  0.215153   69.99    0.0  \n",
            "\n",
            "[5 rows x 31 columns]\n"
          ]
        }
      ]
    },
    {
      "cell_type": "code",
      "source": [
        "data.shape\n",
        "data.info()"
      ],
      "metadata": {
        "colab": {
          "base_uri": "https://localhost:8080/",
          "height": 0
        },
        "id": "2ZqkutokQcOx",
        "outputId": "4ee2464e-1f60-4396-f443-fd247d3b0305"
      },
      "execution_count": 49,
      "outputs": [
        {
          "output_type": "stream",
          "name": "stdout",
          "text": [
            "<class 'pandas.core.frame.DataFrame'>\n",
            "RangeIndex: 160580 entries, 0 to 160579\n",
            "Data columns (total 31 columns):\n",
            " #   Column  Non-Null Count   Dtype  \n",
            "---  ------  --------------   -----  \n",
            " 0   Time    160580 non-null  float64\n",
            " 1   V1      160580 non-null  float64\n",
            " 2   V2      160580 non-null  float64\n",
            " 3   V3      160580 non-null  float64\n",
            " 4   V4      160580 non-null  float64\n",
            " 5   V5      160580 non-null  float64\n",
            " 6   V6      160580 non-null  float64\n",
            " 7   V7      160580 non-null  float64\n",
            " 8   V8      160580 non-null  float64\n",
            " 9   V9      160580 non-null  float64\n",
            " 10  V10     160579 non-null  float64\n",
            " 11  V11     160579 non-null  float64\n",
            " 12  V12     160579 non-null  float64\n",
            " 13  V13     160579 non-null  float64\n",
            " 14  V14     160579 non-null  float64\n",
            " 15  V15     160579 non-null  float64\n",
            " 16  V16     160579 non-null  float64\n",
            " 17  V17     160579 non-null  float64\n",
            " 18  V18     160579 non-null  float64\n",
            " 19  V19     160579 non-null  float64\n",
            " 20  V20     160579 non-null  float64\n",
            " 21  V21     160579 non-null  float64\n",
            " 22  V22     160579 non-null  float64\n",
            " 23  V23     160579 non-null  float64\n",
            " 24  V24     160579 non-null  float64\n",
            " 25  V25     160579 non-null  float64\n",
            " 26  V26     160579 non-null  float64\n",
            " 27  V27     160579 non-null  float64\n",
            " 28  V28     160579 non-null  float64\n",
            " 29  Amount  160579 non-null  float64\n",
            " 30  Class   160579 non-null  float64\n",
            "dtypes: float64(31)\n",
            "memory usage: 38.0 MB\n"
          ]
        }
      ]
    },
    {
      "cell_type": "code",
      "source": [
        "data.describe()"
      ],
      "metadata": {
        "colab": {
          "base_uri": "https://localhost:8080/",
          "height": 350
        },
        "id": "4l_ys5IvXokn",
        "outputId": "69f06c58-1af6-49be-dfc6-ed0f2f1af244"
      },
      "execution_count": 50,
      "outputs": [
        {
          "output_type": "execute_result",
          "data": {
            "text/plain": [
              "                Time             V1             V2             V3  \\\n",
              "count  160580.000000  160580.000000  160580.000000  160580.000000   \n",
              "mean    57480.545242      -0.207315       0.051732       0.565654   \n",
              "std     24648.739896       1.845212       1.615910       1.355699   \n",
              "min         0.000000     -56.407510     -72.715728     -33.680984   \n",
              "25%     40115.750000      -1.005531      -0.528291       0.039585   \n",
              "50%     58415.500000      -0.232236       0.120630       0.675769   \n",
              "75%     75826.250000       1.173304       0.811237       1.326370   \n",
              "max    113472.000000       2.439207      22.057729       9.382558   \n",
              "\n",
              "                  V4             V5             V6             V7  \\\n",
              "count  160580.000000  160580.000000  160580.000000  160580.000000   \n",
              "mean        0.137480      -0.208785       0.065082      -0.094873   \n",
              "std         1.360672       1.333667       1.291085       1.210891   \n",
              "min        -5.519697     -42.147898     -26.160506     -43.557242   \n",
              "25%        -0.718119      -0.851388      -0.681213      -0.592292   \n",
              "50%         0.147207      -0.253136      -0.194186      -0.041671   \n",
              "75%         0.960994       0.329968       0.452844       0.446030   \n",
              "max        16.875344      34.801666      22.529298      36.677268   \n",
              "\n",
              "                  V8             V9  ...            V21            V22  \\\n",
              "count  160580.000000  160580.000000  ...  160579.000000  160579.000000   \n",
              "mean        0.041622       0.021107  ...      -0.035850      -0.100085   \n",
              "std         1.239136       1.161060  ...       0.745918       0.655277   \n",
              "min       -73.216718     -13.434066  ...     -34.830382     -10.933144   \n",
              "25%        -0.153410      -0.662940  ...      -0.231759      -0.549532   \n",
              "50%         0.064074      -0.083914  ...      -0.059066      -0.079427   \n",
              "75%         0.359376       0.651366  ...       0.117804       0.337116   \n",
              "max        20.007208      15.594995  ...      27.202839      10.503090   \n",
              "\n",
              "                 V23            V24            V25            V26  \\\n",
              "count  160579.000000  160579.000000  160579.000000  160579.000000   \n",
              "mean       -0.026058       0.010271       0.106234       0.014743   \n",
              "std         0.585846       0.596814       0.455527       0.493072   \n",
              "min       -44.807735      -2.836627     -10.295397      -2.604551   \n",
              "25%        -0.171314      -0.328744      -0.173936      -0.330606   \n",
              "50%        -0.039814       0.062089       0.149179      -0.060187   \n",
              "75%         0.092439       0.413072       0.406889       0.279121   \n",
              "max        19.002942       4.022866       7.519589       3.517346   \n",
              "\n",
              "                 V27            V28         Amount          Class  \n",
              "count  160579.000000  160579.000000  160579.000000  160579.000000  \n",
              "mean        0.001845       0.002501      87.343062       0.002217  \n",
              "std         0.392889       0.310177     245.159473       0.047033  \n",
              "min       -22.565679     -11.710896       0.000000       0.000000  \n",
              "25%        -0.064278      -0.016428       5.450000       0.000000  \n",
              "50%         0.009761       0.022106      21.500000       0.000000  \n",
              "75%         0.089580       0.078114      76.710000       0.000000  \n",
              "max        12.152401      33.847808   19656.530000       1.000000  \n",
              "\n",
              "[8 rows x 31 columns]"
            ],
            "text/html": [
              "\n",
              "  <div id=\"df-667e7e3f-15d2-42a9-9ff3-53eed2a33cee\" class=\"colab-df-container\">\n",
              "    <div>\n",
              "<style scoped>\n",
              "    .dataframe tbody tr th:only-of-type {\n",
              "        vertical-align: middle;\n",
              "    }\n",
              "\n",
              "    .dataframe tbody tr th {\n",
              "        vertical-align: top;\n",
              "    }\n",
              "\n",
              "    .dataframe thead th {\n",
              "        text-align: right;\n",
              "    }\n",
              "</style>\n",
              "<table border=\"1\" class=\"dataframe\">\n",
              "  <thead>\n",
              "    <tr style=\"text-align: right;\">\n",
              "      <th></th>\n",
              "      <th>Time</th>\n",
              "      <th>V1</th>\n",
              "      <th>V2</th>\n",
              "      <th>V3</th>\n",
              "      <th>V4</th>\n",
              "      <th>V5</th>\n",
              "      <th>V6</th>\n",
              "      <th>V7</th>\n",
              "      <th>V8</th>\n",
              "      <th>V9</th>\n",
              "      <th>...</th>\n",
              "      <th>V21</th>\n",
              "      <th>V22</th>\n",
              "      <th>V23</th>\n",
              "      <th>V24</th>\n",
              "      <th>V25</th>\n",
              "      <th>V26</th>\n",
              "      <th>V27</th>\n",
              "      <th>V28</th>\n",
              "      <th>Amount</th>\n",
              "      <th>Class</th>\n",
              "    </tr>\n",
              "  </thead>\n",
              "  <tbody>\n",
              "    <tr>\n",
              "      <th>count</th>\n",
              "      <td>160580.000000</td>\n",
              "      <td>160580.000000</td>\n",
              "      <td>160580.000000</td>\n",
              "      <td>160580.000000</td>\n",
              "      <td>160580.000000</td>\n",
              "      <td>160580.000000</td>\n",
              "      <td>160580.000000</td>\n",
              "      <td>160580.000000</td>\n",
              "      <td>160580.000000</td>\n",
              "      <td>160580.000000</td>\n",
              "      <td>...</td>\n",
              "      <td>160579.000000</td>\n",
              "      <td>160579.000000</td>\n",
              "      <td>160579.000000</td>\n",
              "      <td>160579.000000</td>\n",
              "      <td>160579.000000</td>\n",
              "      <td>160579.000000</td>\n",
              "      <td>160579.000000</td>\n",
              "      <td>160579.000000</td>\n",
              "      <td>160579.000000</td>\n",
              "      <td>160579.000000</td>\n",
              "    </tr>\n",
              "    <tr>\n",
              "      <th>mean</th>\n",
              "      <td>57480.545242</td>\n",
              "      <td>-0.207315</td>\n",
              "      <td>0.051732</td>\n",
              "      <td>0.565654</td>\n",
              "      <td>0.137480</td>\n",
              "      <td>-0.208785</td>\n",
              "      <td>0.065082</td>\n",
              "      <td>-0.094873</td>\n",
              "      <td>0.041622</td>\n",
              "      <td>0.021107</td>\n",
              "      <td>...</td>\n",
              "      <td>-0.035850</td>\n",
              "      <td>-0.100085</td>\n",
              "      <td>-0.026058</td>\n",
              "      <td>0.010271</td>\n",
              "      <td>0.106234</td>\n",
              "      <td>0.014743</td>\n",
              "      <td>0.001845</td>\n",
              "      <td>0.002501</td>\n",
              "      <td>87.343062</td>\n",
              "      <td>0.002217</td>\n",
              "    </tr>\n",
              "    <tr>\n",
              "      <th>std</th>\n",
              "      <td>24648.739896</td>\n",
              "      <td>1.845212</td>\n",
              "      <td>1.615910</td>\n",
              "      <td>1.355699</td>\n",
              "      <td>1.360672</td>\n",
              "      <td>1.333667</td>\n",
              "      <td>1.291085</td>\n",
              "      <td>1.210891</td>\n",
              "      <td>1.239136</td>\n",
              "      <td>1.161060</td>\n",
              "      <td>...</td>\n",
              "      <td>0.745918</td>\n",
              "      <td>0.655277</td>\n",
              "      <td>0.585846</td>\n",
              "      <td>0.596814</td>\n",
              "      <td>0.455527</td>\n",
              "      <td>0.493072</td>\n",
              "      <td>0.392889</td>\n",
              "      <td>0.310177</td>\n",
              "      <td>245.159473</td>\n",
              "      <td>0.047033</td>\n",
              "    </tr>\n",
              "    <tr>\n",
              "      <th>min</th>\n",
              "      <td>0.000000</td>\n",
              "      <td>-56.407510</td>\n",
              "      <td>-72.715728</td>\n",
              "      <td>-33.680984</td>\n",
              "      <td>-5.519697</td>\n",
              "      <td>-42.147898</td>\n",
              "      <td>-26.160506</td>\n",
              "      <td>-43.557242</td>\n",
              "      <td>-73.216718</td>\n",
              "      <td>-13.434066</td>\n",
              "      <td>...</td>\n",
              "      <td>-34.830382</td>\n",
              "      <td>-10.933144</td>\n",
              "      <td>-44.807735</td>\n",
              "      <td>-2.836627</td>\n",
              "      <td>-10.295397</td>\n",
              "      <td>-2.604551</td>\n",
              "      <td>-22.565679</td>\n",
              "      <td>-11.710896</td>\n",
              "      <td>0.000000</td>\n",
              "      <td>0.000000</td>\n",
              "    </tr>\n",
              "    <tr>\n",
              "      <th>25%</th>\n",
              "      <td>40115.750000</td>\n",
              "      <td>-1.005531</td>\n",
              "      <td>-0.528291</td>\n",
              "      <td>0.039585</td>\n",
              "      <td>-0.718119</td>\n",
              "      <td>-0.851388</td>\n",
              "      <td>-0.681213</td>\n",
              "      <td>-0.592292</td>\n",
              "      <td>-0.153410</td>\n",
              "      <td>-0.662940</td>\n",
              "      <td>...</td>\n",
              "      <td>-0.231759</td>\n",
              "      <td>-0.549532</td>\n",
              "      <td>-0.171314</td>\n",
              "      <td>-0.328744</td>\n",
              "      <td>-0.173936</td>\n",
              "      <td>-0.330606</td>\n",
              "      <td>-0.064278</td>\n",
              "      <td>-0.016428</td>\n",
              "      <td>5.450000</td>\n",
              "      <td>0.000000</td>\n",
              "    </tr>\n",
              "    <tr>\n",
              "      <th>50%</th>\n",
              "      <td>58415.500000</td>\n",
              "      <td>-0.232236</td>\n",
              "      <td>0.120630</td>\n",
              "      <td>0.675769</td>\n",
              "      <td>0.147207</td>\n",
              "      <td>-0.253136</td>\n",
              "      <td>-0.194186</td>\n",
              "      <td>-0.041671</td>\n",
              "      <td>0.064074</td>\n",
              "      <td>-0.083914</td>\n",
              "      <td>...</td>\n",
              "      <td>-0.059066</td>\n",
              "      <td>-0.079427</td>\n",
              "      <td>-0.039814</td>\n",
              "      <td>0.062089</td>\n",
              "      <td>0.149179</td>\n",
              "      <td>-0.060187</td>\n",
              "      <td>0.009761</td>\n",
              "      <td>0.022106</td>\n",
              "      <td>21.500000</td>\n",
              "      <td>0.000000</td>\n",
              "    </tr>\n",
              "    <tr>\n",
              "      <th>75%</th>\n",
              "      <td>75826.250000</td>\n",
              "      <td>1.173304</td>\n",
              "      <td>0.811237</td>\n",
              "      <td>1.326370</td>\n",
              "      <td>0.960994</td>\n",
              "      <td>0.329968</td>\n",
              "      <td>0.452844</td>\n",
              "      <td>0.446030</td>\n",
              "      <td>0.359376</td>\n",
              "      <td>0.651366</td>\n",
              "      <td>...</td>\n",
              "      <td>0.117804</td>\n",
              "      <td>0.337116</td>\n",
              "      <td>0.092439</td>\n",
              "      <td>0.413072</td>\n",
              "      <td>0.406889</td>\n",
              "      <td>0.279121</td>\n",
              "      <td>0.089580</td>\n",
              "      <td>0.078114</td>\n",
              "      <td>76.710000</td>\n",
              "      <td>0.000000</td>\n",
              "    </tr>\n",
              "    <tr>\n",
              "      <th>max</th>\n",
              "      <td>113472.000000</td>\n",
              "      <td>2.439207</td>\n",
              "      <td>22.057729</td>\n",
              "      <td>9.382558</td>\n",
              "      <td>16.875344</td>\n",
              "      <td>34.801666</td>\n",
              "      <td>22.529298</td>\n",
              "      <td>36.677268</td>\n",
              "      <td>20.007208</td>\n",
              "      <td>15.594995</td>\n",
              "      <td>...</td>\n",
              "      <td>27.202839</td>\n",
              "      <td>10.503090</td>\n",
              "      <td>19.002942</td>\n",
              "      <td>4.022866</td>\n",
              "      <td>7.519589</td>\n",
              "      <td>3.517346</td>\n",
              "      <td>12.152401</td>\n",
              "      <td>33.847808</td>\n",
              "      <td>19656.530000</td>\n",
              "      <td>1.000000</td>\n",
              "    </tr>\n",
              "  </tbody>\n",
              "</table>\n",
              "<p>8 rows × 31 columns</p>\n",
              "</div>\n",
              "    <div class=\"colab-df-buttons\">\n",
              "\n",
              "  <div class=\"colab-df-container\">\n",
              "    <button class=\"colab-df-convert\" onclick=\"convertToInteractive('df-667e7e3f-15d2-42a9-9ff3-53eed2a33cee')\"\n",
              "            title=\"Convert this dataframe to an interactive table.\"\n",
              "            style=\"display:none;\">\n",
              "\n",
              "  <svg xmlns=\"http://www.w3.org/2000/svg\" height=\"24px\" viewBox=\"0 -960 960 960\">\n",
              "    <path d=\"M120-120v-720h720v720H120Zm60-500h600v-160H180v160Zm220 220h160v-160H400v160Zm0 220h160v-160H400v160ZM180-400h160v-160H180v160Zm440 0h160v-160H620v160ZM180-180h160v-160H180v160Zm440 0h160v-160H620v160Z\"/>\n",
              "  </svg>\n",
              "    </button>\n",
              "\n",
              "  <style>\n",
              "    .colab-df-container {\n",
              "      display:flex;\n",
              "      gap: 12px;\n",
              "    }\n",
              "\n",
              "    .colab-df-convert {\n",
              "      background-color: #E8F0FE;\n",
              "      border: none;\n",
              "      border-radius: 50%;\n",
              "      cursor: pointer;\n",
              "      display: none;\n",
              "      fill: #1967D2;\n",
              "      height: 32px;\n",
              "      padding: 0 0 0 0;\n",
              "      width: 32px;\n",
              "    }\n",
              "\n",
              "    .colab-df-convert:hover {\n",
              "      background-color: #E2EBFA;\n",
              "      box-shadow: 0px 1px 2px rgba(60, 64, 67, 0.3), 0px 1px 3px 1px rgba(60, 64, 67, 0.15);\n",
              "      fill: #174EA6;\n",
              "    }\n",
              "\n",
              "    .colab-df-buttons div {\n",
              "      margin-bottom: 4px;\n",
              "    }\n",
              "\n",
              "    [theme=dark] .colab-df-convert {\n",
              "      background-color: #3B4455;\n",
              "      fill: #D2E3FC;\n",
              "    }\n",
              "\n",
              "    [theme=dark] .colab-df-convert:hover {\n",
              "      background-color: #434B5C;\n",
              "      box-shadow: 0px 1px 3px 1px rgba(0, 0, 0, 0.15);\n",
              "      filter: drop-shadow(0px 1px 2px rgba(0, 0, 0, 0.3));\n",
              "      fill: #FFFFFF;\n",
              "    }\n",
              "  </style>\n",
              "\n",
              "    <script>\n",
              "      const buttonEl =\n",
              "        document.querySelector('#df-667e7e3f-15d2-42a9-9ff3-53eed2a33cee button.colab-df-convert');\n",
              "      buttonEl.style.display =\n",
              "        google.colab.kernel.accessAllowed ? 'block' : 'none';\n",
              "\n",
              "      async function convertToInteractive(key) {\n",
              "        const element = document.querySelector('#df-667e7e3f-15d2-42a9-9ff3-53eed2a33cee');\n",
              "        const dataTable =\n",
              "          await google.colab.kernel.invokeFunction('convertToInteractive',\n",
              "                                                    [key], {});\n",
              "        if (!dataTable) return;\n",
              "\n",
              "        const docLinkHtml = 'Like what you see? Visit the ' +\n",
              "          '<a target=\"_blank\" href=https://colab.research.google.com/notebooks/data_table.ipynb>data table notebook</a>'\n",
              "          + ' to learn more about interactive tables.';\n",
              "        element.innerHTML = '';\n",
              "        dataTable['output_type'] = 'display_data';\n",
              "        await google.colab.output.renderOutput(dataTable, element);\n",
              "        const docLink = document.createElement('div');\n",
              "        docLink.innerHTML = docLinkHtml;\n",
              "        element.appendChild(docLink);\n",
              "      }\n",
              "    </script>\n",
              "  </div>\n",
              "\n",
              "\n",
              "<div id=\"df-e183c3b5-c8e7-4e13-8001-eaea5be4b40c\">\n",
              "  <button class=\"colab-df-quickchart\" onclick=\"quickchart('df-e183c3b5-c8e7-4e13-8001-eaea5be4b40c')\"\n",
              "            title=\"Suggest charts\"\n",
              "            style=\"display:none;\">\n",
              "\n",
              "<svg xmlns=\"http://www.w3.org/2000/svg\" height=\"24px\"viewBox=\"0 0 24 24\"\n",
              "     width=\"24px\">\n",
              "    <g>\n",
              "        <path d=\"M19 3H5c-1.1 0-2 .9-2 2v14c0 1.1.9 2 2 2h14c1.1 0 2-.9 2-2V5c0-1.1-.9-2-2-2zM9 17H7v-7h2v7zm4 0h-2V7h2v10zm4 0h-2v-4h2v4z\"/>\n",
              "    </g>\n",
              "</svg>\n",
              "  </button>\n",
              "\n",
              "<style>\n",
              "  .colab-df-quickchart {\n",
              "      --bg-color: #E8F0FE;\n",
              "      --fill-color: #1967D2;\n",
              "      --hover-bg-color: #E2EBFA;\n",
              "      --hover-fill-color: #174EA6;\n",
              "      --disabled-fill-color: #AAA;\n",
              "      --disabled-bg-color: #DDD;\n",
              "  }\n",
              "\n",
              "  [theme=dark] .colab-df-quickchart {\n",
              "      --bg-color: #3B4455;\n",
              "      --fill-color: #D2E3FC;\n",
              "      --hover-bg-color: #434B5C;\n",
              "      --hover-fill-color: #FFFFFF;\n",
              "      --disabled-bg-color: #3B4455;\n",
              "      --disabled-fill-color: #666;\n",
              "  }\n",
              "\n",
              "  .colab-df-quickchart {\n",
              "    background-color: var(--bg-color);\n",
              "    border: none;\n",
              "    border-radius: 50%;\n",
              "    cursor: pointer;\n",
              "    display: none;\n",
              "    fill: var(--fill-color);\n",
              "    height: 32px;\n",
              "    padding: 0;\n",
              "    width: 32px;\n",
              "  }\n",
              "\n",
              "  .colab-df-quickchart:hover {\n",
              "    background-color: var(--hover-bg-color);\n",
              "    box-shadow: 0 1px 2px rgba(60, 64, 67, 0.3), 0 1px 3px 1px rgba(60, 64, 67, 0.15);\n",
              "    fill: var(--button-hover-fill-color);\n",
              "  }\n",
              "\n",
              "  .colab-df-quickchart-complete:disabled,\n",
              "  .colab-df-quickchart-complete:disabled:hover {\n",
              "    background-color: var(--disabled-bg-color);\n",
              "    fill: var(--disabled-fill-color);\n",
              "    box-shadow: none;\n",
              "  }\n",
              "\n",
              "  .colab-df-spinner {\n",
              "    border: 2px solid var(--fill-color);\n",
              "    border-color: transparent;\n",
              "    border-bottom-color: var(--fill-color);\n",
              "    animation:\n",
              "      spin 1s steps(1) infinite;\n",
              "  }\n",
              "\n",
              "  @keyframes spin {\n",
              "    0% {\n",
              "      border-color: transparent;\n",
              "      border-bottom-color: var(--fill-color);\n",
              "      border-left-color: var(--fill-color);\n",
              "    }\n",
              "    20% {\n",
              "      border-color: transparent;\n",
              "      border-left-color: var(--fill-color);\n",
              "      border-top-color: var(--fill-color);\n",
              "    }\n",
              "    30% {\n",
              "      border-color: transparent;\n",
              "      border-left-color: var(--fill-color);\n",
              "      border-top-color: var(--fill-color);\n",
              "      border-right-color: var(--fill-color);\n",
              "    }\n",
              "    40% {\n",
              "      border-color: transparent;\n",
              "      border-right-color: var(--fill-color);\n",
              "      border-top-color: var(--fill-color);\n",
              "    }\n",
              "    60% {\n",
              "      border-color: transparent;\n",
              "      border-right-color: var(--fill-color);\n",
              "    }\n",
              "    80% {\n",
              "      border-color: transparent;\n",
              "      border-right-color: var(--fill-color);\n",
              "      border-bottom-color: var(--fill-color);\n",
              "    }\n",
              "    90% {\n",
              "      border-color: transparent;\n",
              "      border-bottom-color: var(--fill-color);\n",
              "    }\n",
              "  }\n",
              "</style>\n",
              "\n",
              "  <script>\n",
              "    async function quickchart(key) {\n",
              "      const quickchartButtonEl =\n",
              "        document.querySelector('#' + key + ' button');\n",
              "      quickchartButtonEl.disabled = true;  // To prevent multiple clicks.\n",
              "      quickchartButtonEl.classList.add('colab-df-spinner');\n",
              "      try {\n",
              "        const charts = await google.colab.kernel.invokeFunction(\n",
              "            'suggestCharts', [key], {});\n",
              "      } catch (error) {\n",
              "        console.error('Error during call to suggestCharts:', error);\n",
              "      }\n",
              "      quickchartButtonEl.classList.remove('colab-df-spinner');\n",
              "      quickchartButtonEl.classList.add('colab-df-quickchart-complete');\n",
              "    }\n",
              "    (() => {\n",
              "      let quickchartButtonEl =\n",
              "        document.querySelector('#df-e183c3b5-c8e7-4e13-8001-eaea5be4b40c button');\n",
              "      quickchartButtonEl.style.display =\n",
              "        google.colab.kernel.accessAllowed ? 'block' : 'none';\n",
              "    })();\n",
              "  </script>\n",
              "</div>\n",
              "\n",
              "    </div>\n",
              "  </div>\n"
            ],
            "application/vnd.google.colaboratory.intrinsic+json": {
              "type": "dataframe"
            }
          },
          "metadata": {},
          "execution_count": 50
        }
      ]
    },
    {
      "cell_type": "code",
      "source": [
        "data.fillna(data.mean(), inplace=True)"
      ],
      "metadata": {
        "id": "N74GkjrFPH8c"
      },
      "execution_count": 51,
      "outputs": []
    },
    {
      "cell_type": "code",
      "source": [
        "print(data.isnull().sum())"
      ],
      "metadata": {
        "colab": {
          "base_uri": "https://localhost:8080/",
          "height": 0
        },
        "id": "axQ8BPL6PKI6",
        "outputId": "ebc7110a-6f0e-4e15-8b7e-a9a452006fc4"
      },
      "execution_count": 52,
      "outputs": [
        {
          "output_type": "stream",
          "name": "stdout",
          "text": [
            "Time      0\n",
            "V1        0\n",
            "V2        0\n",
            "V3        0\n",
            "V4        0\n",
            "V5        0\n",
            "V6        0\n",
            "V7        0\n",
            "V8        0\n",
            "V9        0\n",
            "V10       0\n",
            "V11       0\n",
            "V12       0\n",
            "V13       0\n",
            "V14       0\n",
            "V15       0\n",
            "V16       0\n",
            "V17       0\n",
            "V18       0\n",
            "V19       0\n",
            "V20       0\n",
            "V21       0\n",
            "V22       0\n",
            "V23       0\n",
            "V24       0\n",
            "V25       0\n",
            "V26       0\n",
            "V27       0\n",
            "V28       0\n",
            "Amount    0\n",
            "Class     0\n",
            "dtype: int64\n"
          ]
        }
      ]
    },
    {
      "cell_type": "code",
      "source": [
        "genuine_count = len(data[data['Class'] == 0])\n",
        "fraud_count = len(data[data['Class'] == 1])"
      ],
      "metadata": {
        "id": "u43JUNfQPUwB"
      },
      "execution_count": 53,
      "outputs": []
    },
    {
      "cell_type": "code",
      "source": [
        "fraud_percentage = (fraud_count / len(data)) * 100\n",
        "print(f\"Number of genuine transactions: {genuine_count}\")\n",
        "print(f\"Number of fraudulent transactions: {fraud_count}\")\n",
        "print(f\"Percentage of fraudulent transactions: {fraud_percentage:.2f}%\")"
      ],
      "metadata": {
        "colab": {
          "base_uri": "https://localhost:8080/",
          "height": 0
        },
        "id": "MWUWs2PTPYRc",
        "outputId": "c39f00e4-b5fd-434c-e37f-e89d57809222"
      },
      "execution_count": 54,
      "outputs": [
        {
          "output_type": "stream",
          "name": "stdout",
          "text": [
            "Number of genuine transactions: 160223\n",
            "Number of fraudulent transactions: 356\n",
            "Percentage of fraudulent transactions: 0.22%\n"
          ]
        }
      ]
    },
    {
      "cell_type": "code",
      "source": [
        "plt.figure(figsize=(8, 6))\n",
        "plt.bar(['Genuine', 'Fraudulent'], [genuine_count, fraud_count])\n",
        "plt.xlabel('Transaction Type')\n",
        "plt.ylabel('Count')\n",
        "plt.title('Distribution of Genuine and Fraudulent Transactions')\n",
        "plt.show()"
      ],
      "metadata": {
        "colab": {
          "base_uri": "https://localhost:8080/",
          "height": 564
        },
        "id": "I7KEAueiPa8R",
        "outputId": "3f37d1dc-73dc-4553-f9b4-aa043a447334"
      },
      "execution_count": 55,
      "outputs": [
        {
          "output_type": "display_data",
          "data": {
            "text/plain": [
              "<Figure size 800x600 with 1 Axes>"
            ],
            "image/png": "[encoded data removed]"
          },
          "metadata": {}
        }
      ]
    },
    {
      "cell_type": "code",
      "source": [
        "from sklearn.preprocessing import StandardScaler\n",
        "sc = StandardScaler()\n",
        "amount_column = data['Amount']\n",
        "data['NormalizedAmount'] = sc.fit_transform(amount_column.values.reshape(-1, 1))"
      ],
      "metadata": {
        "id": "NKjpVUSPPgLg"
      },
      "execution_count": 56,
      "outputs": []
    },
    {
      "cell_type": "code",
      "source": [
        "from sklearn.model_selection import train_test_split\n",
        "X = data.drop('Class', axis=1)\n",
        "y = data['Class']\n",
        "X_train, X_test, y_train, y_test = train_test_split(X, y, test_size=0.3, random_state=42)"
      ],
      "metadata": {
        "id": "bhAacuU7PumG"
      },
      "execution_count": 57,
      "outputs": []
    },
    {
      "cell_type": "code",
      "source": [
        "y_test = y_test.astype(int)"
      ],
      "metadata": {
        "id": "N7zGrBSXRRMr"
      },
      "execution_count": 58,
      "outputs": []
    },
    {
      "cell_type": "code",
      "source": [
        "from sklearn.tree import DecisionTreeClassifier\n",
        "dt = DecisionTreeClassifier(max_depth=5, random_state=42)\n",
        "\n",
        "dt.fit(X_train, y_train)\n",
        "\n",
        "decision_tree_predictions = dt.predict(X_test)\n",
        "decision_tree_accuracy = dt.score(X_test, y_test)\n",
        "print(\"Decision Tree Accuracy:\", decision_tree_accuracy)"
      ],
      "metadata": {
        "colab": {
          "base_uri": "https://localhost:8080/",
          "height": 0
        },
        "id": "E5Qj6PUgP1Fp",
        "outputId": "2a47aa05-75e2-448a-cf33-6f9e45816154"
      },
      "execution_count": 59,
      "outputs": [
        {
          "output_type": "stream",
          "name": "stdout",
          "text": [
            "Decision Tree Accuracy: 0.9996263544650641\n"
          ]
        }
      ]
    },
    {
      "cell_type": "code",
      "source": [
        "from sklearn.ensemble import RandomForestClassifier\n",
        "n_estimators = 50\n",
        "max_depth = 5\n",
        "\n",
        "rc = RandomForestClassifier(n_estimators=n_estimators, max_depth=max_depth, random_state=42)\n",
        "rc.fit(X_train, y_train)\n",
        "\n",
        "random_forest_predictions = rc.predict(X_test)\n",
        "random_forest_accuracy = rc.score(X_test, y_test)\n",
        "\n",
        "print(\"Random Forest Classifier:\", random_forest_accuracy)\n"
      ],
      "metadata": {
        "colab": {
          "base_uri": "https://localhost:8080/",
          "height": 0
        },
        "id": "_-MMrxxvRe5w",
        "outputId": "e80f14d3-ae23-4aa7-da5f-237cd10742c4"
      },
      "execution_count": 61,
      "outputs": [
        {
          "output_type": "stream",
          "name": "stdout",
          "text": [
            "Random Forest Classifier: 0.9995225640386931\n"
          ]
        }
      ]
    },
    {
      "cell_type": "code",
      "source": [
        "dt_pred = dt.predict(X_test)\n",
        "rc_pred = rc.predict(X_test)\n",
        "\n",
        "print(f\"First 5 predictions from Decision Tree: {dt_pred[:5]}\")\n",
        "print(f\"First 5 predictions from Random Forest: {rc_pred[:5]}\")\n"
      ],
      "metadata": {
        "colab": {
          "base_uri": "https://localhost:8080/",
          "height": 0
        },
        "id": "GgVUvoSQVFJG",
        "outputId": "be8e1d82-33ba-4acd-9008-a134431b090e"
      },
      "execution_count": 26,
      "outputs": [
        {
          "output_type": "stream",
          "name": "stdout",
          "text": [
            "First 5 predictions from Decision Tree: [0. 0. 0. 0. 0.]\n",
            "First 5 predictions from Random Forest: [0. 0. 0. 0. 0.]\n"
          ]
        }
      ]
    },
    {
      "cell_type": "code",
      "source": [
        "from sklearn.metrics import accuracy_score, precision_score, recall_score, f1_score\n",
        "\n",
        "# Evaluate the models on the testing set\n",
        "dt_accuracy = accuracy_score(y_test, dt_pred)\n",
        "rc_accuracy = accuracy_score(y_test, rc_pred)\n",
        "\n",
        "dt_precision = precision_score(y_test, dt_pred)\n",
        "rc_precision = precision_score(y_test, rc_pred)\n",
        "\n",
        "dt_recall = recall_score(y_test, dt_pred)\n",
        "rc_recall = recall_score(y_test, rc_pred)\n",
        "\n",
        "dt_f1 = f1_score(y_test, dt_pred)\n",
        "rc_f1 = f1_score(y_test, rc_pred)\n",
        "\n",
        "# Print the evaluation metrics for comparison\n",
        "print(\"Decision Tree:\")\n",
        "print(f\"Accuracy: {dt_accuracy:.4f}\")\n",
        "print(f\"Precision: {dt_precision:.4f}\")\n",
        "print(f\"Recall: {dt_recall:.4f}\")\n",
        "print(f\"F1-score: {dt_f1:.4f}\")\n",
        "\n",
        "print(\"\\nRandom Forest:\")\n",
        "print(f\"Accuracy: {rc_accuracy:.4f}\")\n",
        "print(f\"Precision: {rc_precision:.4f}\")\n",
        "print(f\"Recall: {rc_recall:.4f}\")\n",
        "print(f\"F1-score: {rc_f1:.4f}\")\n"
      ],
      "metadata": {
        "colab": {
          "base_uri": "https://localhost:8080/",
          "height": 0
        },
        "id": "Afzec2BYU5eu",
        "outputId": "ada354db-1e7c-432b-beca-6694e2c18a2d"
      },
      "execution_count": 28,
      "outputs": [
        {
          "output_type": "stream",
          "name": "stdout",
          "text": [
            "Decision Tree:\n",
            "Accuracy: 0.9988\n",
            "Precision: 0.8462\n",
            "Recall: 0.8148\n",
            "F1-score: 0.8302\n",
            "\n",
            "Random Forest:\n",
            "Accuracy: 0.9990\n",
            "Precision: 0.8800\n",
            "Recall: 0.8148\n",
            "F1-score: 0.8462\n"
          ]
        }
      ]
    },
    {
      "cell_type": "code",
      "source": [
        "from sklearn.metrics import confusion_matrix\n",
        "\n",
        "dt_cm = confusion_matrix(y_test, dt_pred)\n",
        "rc_cm = confusion_matrix(y_test, rc_pred)\n",
        "\n",
        "print(\"Decision Tree Confusion Matrix:\\n\", dt_cm)\n",
        "print(\"\\nRandom Forest Confusion Matrix:\\n\", rc_cm)\n"
      ],
      "metadata": {
        "colab": {
          "base_uri": "https://localhost:8080/",
          "height": 0
        },
        "id": "DimG7s1DV7Km",
        "outputId": "4f911b65-bf0d-4fde-b2d8-c314b95e566e"
      },
      "execution_count": 29,
      "outputs": [
        {
          "output_type": "stream",
          "name": "stdout",
          "text": [
            "Decision Tree Confusion Matrix:\n",
            " [[7721    4]\n",
            " [   5   22]]\n",
            "\n",
            "Random Forest Confusion Matrix:\n",
            " [[7722    3]\n",
            " [   5   22]]\n"
          ]
        }
      ]
    },
    {
      "cell_type": "markdown",
      "source": [
        "Based on these metrics, the Random Forest shows a slight edge in performance compared to the Decision Tree. However, the differences are very small"
      ],
      "metadata": {
        "id": "i9iwT7InWyd3"
      }
    }
  ]
}